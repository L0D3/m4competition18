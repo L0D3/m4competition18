{
 "cells": [
  {
   "cell_type": "code",
   "execution_count": 1,
   "metadata": {},
   "outputs": [
    {
     "name": "stdout",
     "output_type": "stream",
     "text": [
      "Archive:  ./data/M4DataSet.zip\n",
      "  inflating: Daily-train.csv         \n",
      "  inflating: Hourly-train.csv        \n",
      "  inflating: Monthly-train.csv       \n",
      "  inflating: Quarterly-train.csv     \n",
      "  inflating: Weekly-train.csv        \n",
      "  inflating: Yearly-train.csv        \n"
     ]
    }
   ],
   "source": [
    "%%sh\n",
    "unzip ./data/M4DataSet.zip"
   ]
  },
  {
   "cell_type": "code",
   "execution_count": null,
   "metadata": {},
   "outputs": [],
   "source": []
  }
 ],
 "metadata": {
  "kernelspec": {
   "display_name": "jupyter",
   "language": "python",
   "name": "jupyter"
  },
  "language_info": {
   "codemirror_mode": {
    "name": "ipython",
    "version": 3
   },
   "file_extension": ".py",
   "mimetype": "text/x-python",
   "name": "python",
   "nbconvert_exporter": "python",
   "pygments_lexer": "ipython3",
   "version": "3.6.4"
  }
 },
 "nbformat": 4,
 "nbformat_minor": 2
}
